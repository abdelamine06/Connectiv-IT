{
 "cells": [
  {
   "cell_type": "code",
   "execution_count": 1,
   "metadata": {},
   "outputs": [],
   "source": [
    "import pandas as pd\n",
    "import numpy as np\n",
    "import os\n",
    "\n",
    "from openpyxl import load_workbook\n",
    "from itertools import islice\n",
    "import math"
   ]
  },
  {
   "cell_type": "markdown",
   "metadata": {},
   "source": [
    "# Fiabilité"
   ]
  },
  {
   "cell_type": "code",
   "execution_count": 2,
   "metadata": {},
   "outputs": [
    {
     "data": {
      "text/html": [
       "<div>\n",
       "<style scoped>\n",
       "    .dataframe tbody tr th:only-of-type {\n",
       "        vertical-align: middle;\n",
       "    }\n",
       "\n",
       "    .dataframe tbody tr th {\n",
       "        vertical-align: top;\n",
       "    }\n",
       "\n",
       "    .dataframe thead th {\n",
       "        text-align: right;\n",
       "    }\n",
       "</style>\n",
       "<table border=\"1\" class=\"dataframe\">\n",
       "  <thead>\n",
       "    <tr style=\"text-align: right;\">\n",
       "      <th></th>\n",
       "      <th>Index DF</th>\n",
       "      <th>Designation</th>\n",
       "      <th>NG DF</th>\n",
       "      <th>REF FAB SIMAT</th>\n",
       "      <th>MTBF</th>\n",
       "      <th>MTBUR</th>\n",
       "    </tr>\n",
       "  </thead>\n",
       "  <tbody>\n",
       "    <tr>\n",
       "      <th>0</th>\n",
       "      <td>0</td>\n",
       "      <td>HDM AS332 M1e RENOVE OACI 2012</td>\n",
       "      <td>HM/COUGAR/AS532UL</td>\n",
       "      <td>00050501</td>\n",
       "      <td>NaN</td>\n",
       "      <td>NaN</td>\n",
       "    </tr>\n",
       "    <tr>\n",
       "      <th>1</th>\n",
       "      <td>22301</td>\n",
       "      <td>BLOC HYD PA_x000D_\\n</td>\n",
       "      <td>145754555</td>\n",
       "      <td>702A10009211</td>\n",
       "      <td>484.489200</td>\n",
       "      <td>285.848628</td>\n",
       "    </tr>\n",
       "    <tr>\n",
       "      <th>2</th>\n",
       "      <td>223011</td>\n",
       "      <td>SERVO VALVE A</td>\n",
       "      <td>144569375</td>\n",
       "      <td>704A44810016</td>\n",
       "      <td>5609.297957</td>\n",
       "      <td>3309.485795</td>\n",
       "    </tr>\n",
       "    <tr>\n",
       "      <th>3</th>\n",
       "      <td>223012</td>\n",
       "      <td>SERVO VALVE B</td>\n",
       "      <td>144569375</td>\n",
       "      <td>704A44810016</td>\n",
       "      <td>5609.297957</td>\n",
       "      <td>3309.485795</td>\n",
       "    </tr>\n",
       "    <tr>\n",
       "      <th>4</th>\n",
       "      <td>223013</td>\n",
       "      <td>SERVO VALVE C</td>\n",
       "      <td>144569375</td>\n",
       "      <td>704A44810016</td>\n",
       "      <td>5609.297957</td>\n",
       "      <td>3309.485795</td>\n",
       "    </tr>\n",
       "  </tbody>\n",
       "</table>\n",
       "</div>"
      ],
      "text/plain": [
       "  Index DF                      Designation              NG DF REF FAB SIMAT  \\\n",
       "0        0  HDM AS332 M1e RENOVE OACI 2012   HM/COUGAR/AS532UL      00050501   \n",
       "1    22301             BLOC HYD PA_x000D_\\n          145754555  702A10009211   \n",
       "2   223011                    SERVO VALVE A          144569375  704A44810016   \n",
       "3   223012                    SERVO VALVE B          144569375  704A44810016   \n",
       "4   223013                    SERVO VALVE C          144569375  704A44810016   \n",
       "\n",
       "          MTBF       MTBUR   \n",
       "0          NaN          NaN  \n",
       "1   484.489200   285.848628  \n",
       "2  5609.297957  3309.485795  \n",
       "3  5609.297957  3309.485795  \n",
       "4  5609.297957  3309.485795  "
      ]
     },
     "execution_count": 2,
     "metadata": {},
     "output_type": "execute_result"
    }
   ],
   "source": [
    "df = pd.read_excel(\"../data/raw/20210105_MTBF vs MTBUR.xlsx\", engine='openpyxl', sheet_name=0, index_col=None)\n",
    "df.head()"
   ]
  },
  {
   "cell_type": "markdown",
   "metadata": {},
   "source": [
    "Si la distribution suit une loi exponentielle, on a $\\lambda = \\frac{1}{MTBF}$ et la probabilité de survie d'une pièce au temps $t$ c'est $P(x<t)=R(t)=e^{-\\lambda t}$"
   ]
  },
  {
   "cell_type": "code",
   "execution_count": 3,
   "metadata": {},
   "outputs": [],
   "source": [
    "def generate_data(mtbf, N):\n",
    "    l = 1/mtbf\n",
    "\n",
    "    times = np.random.sample(N) * (mtbf*3)\n",
    "    probs = np.exp(-l * times) # proba de survie\n",
    "    y = np.random.rand(len(probs)) < probs\n",
    "    # si rand < prob, y = True (la pièce est cassée)\n",
    "    return pd.DataFrame(list(zip(times, probs, y)), columns=['flight_time', 'survival_prob', 'state'])"
   ]
  },
  {
   "cell_type": "code",
   "execution_count": 4,
   "metadata": {},
   "outputs": [],
   "source": [
    "mtbf = 5609.297957\n",
    "\n",
    "df = generate_data(mtbf, 10000)"
   ]
  },
  {
   "cell_type": "code",
   "execution_count": 5,
   "metadata": {},
   "outputs": [
    {
     "data": {
      "text/html": [
       "<div>\n",
       "<style scoped>\n",
       "    .dataframe tbody tr th:only-of-type {\n",
       "        vertical-align: middle;\n",
       "    }\n",
       "\n",
       "    .dataframe tbody tr th {\n",
       "        vertical-align: top;\n",
       "    }\n",
       "\n",
       "    .dataframe thead th {\n",
       "        text-align: right;\n",
       "    }\n",
       "</style>\n",
       "<table border=\"1\" class=\"dataframe\">\n",
       "  <thead>\n",
       "    <tr style=\"text-align: right;\">\n",
       "      <th></th>\n",
       "      <th>flight_time</th>\n",
       "      <th>survival_prob</th>\n",
       "      <th>state</th>\n",
       "    </tr>\n",
       "  </thead>\n",
       "  <tbody>\n",
       "    <tr>\n",
       "      <th>0</th>\n",
       "      <td>13492.571029</td>\n",
       "      <td>0.090230</td>\n",
       "      <td>False</td>\n",
       "    </tr>\n",
       "    <tr>\n",
       "      <th>1</th>\n",
       "      <td>4105.316287</td>\n",
       "      <td>0.481005</td>\n",
       "      <td>True</td>\n",
       "    </tr>\n",
       "    <tr>\n",
       "      <th>2</th>\n",
       "      <td>7567.482638</td>\n",
       "      <td>0.259475</td>\n",
       "      <td>False</td>\n",
       "    </tr>\n",
       "    <tr>\n",
       "      <th>3</th>\n",
       "      <td>11414.447967</td>\n",
       "      <td>0.130692</td>\n",
       "      <td>True</td>\n",
       "    </tr>\n",
       "    <tr>\n",
       "      <th>4</th>\n",
       "      <td>10713.946831</td>\n",
       "      <td>0.148075</td>\n",
       "      <td>True</td>\n",
       "    </tr>\n",
       "  </tbody>\n",
       "</table>\n",
       "</div>"
      ],
      "text/plain": [
       "    flight_time  survival_prob  state\n",
       "0  13492.571029       0.090230  False\n",
       "1   4105.316287       0.481005   True\n",
       "2   7567.482638       0.259475  False\n",
       "3  11414.447967       0.130692   True\n",
       "4  10713.946831       0.148075   True"
      ]
     },
     "execution_count": 5,
     "metadata": {},
     "output_type": "execute_result"
    }
   ],
   "source": [
    "df.head()"
   ]
  },
  {
   "cell_type": "code",
   "execution_count": null,
   "metadata": {},
   "outputs": [],
   "source": []
  }
 ],
 "metadata": {
  "kernelspec": {
   "display_name": "Python 3",
   "language": "python",
   "name": "python3"
  },
  "language_info": {
   "codemirror_mode": {
    "name": "ipython",
    "version": 3
   },
   "file_extension": ".py",
   "mimetype": "text/x-python",
   "name": "python",
   "nbconvert_exporter": "python",
   "pygments_lexer": "ipython3",
   "version": "3.8.6"
  }
 },
 "nbformat": 4,
 "nbformat_minor": 4
}
