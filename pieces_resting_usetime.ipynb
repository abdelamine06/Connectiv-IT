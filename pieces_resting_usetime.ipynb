{
 "cells": [
  {
   "cell_type": "code",
   "execution_count": 1,
   "metadata": {},
   "outputs": [],
   "source": [
    "import pandas as pd\n",
    "import numpy as np"
   ]
  },
  {
   "cell_type": "code",
   "execution_count": 2,
   "metadata": {},
   "outputs": [],
   "source": [
    "# pd.read_excel('Data/Copie de 20210108_161349_end_product_export_administrator.xlsx', index_col=0)"
   ]
  },
  {
   "cell_type": "markdown",
   "metadata": {},
   "source": [
    "### Load Piece Data"
   ]
  },
  {
   "cell_type": "code",
   "execution_count": 3,
   "metadata": {},
   "outputs": [],
   "source": [
    "# le derniere rang est tout NaN (c'est le seul a enlever)\n",
    "# on utilise la colonne \"NG DF\" comme index\n",
    "#df_mtb = pd.read_excel('Data/20210105_MTBF vs MTBUR.xlsx', index_col=2).dropna(how='all').dropna(thresh=4)\n",
    "df_mtb = pd.read_excel('Data/20210105_MTBF vs MTBUR.xlsx', dtype={'NG DF': str}).dropna(how='all').dropna(thresh=5)\n",
    "df_mtb = df_mtb.rename(columns={'NG DF': 'part number'})\n",
    "df_mtb = df_mtb.set_index('part number')"
   ]
  },
  {
   "cell_type": "code",
   "execution_count": 4,
   "metadata": {},
   "outputs": [
    {
     "data": {
      "text/html": [
       "<div>\n",
       "<style scoped>\n",
       "    .dataframe tbody tr th:only-of-type {\n",
       "        vertical-align: middle;\n",
       "    }\n",
       "\n",
       "    .dataframe tbody tr th {\n",
       "        vertical-align: top;\n",
       "    }\n",
       "\n",
       "    .dataframe thead th {\n",
       "        text-align: right;\n",
       "    }\n",
       "</style>\n",
       "<table border=\"1\" class=\"dataframe\">\n",
       "  <thead>\n",
       "    <tr style=\"text-align: right;\">\n",
       "      <th></th>\n",
       "      <th>Designation</th>\n",
       "      <th>MTBUR</th>\n",
       "    </tr>\n",
       "    <tr>\n",
       "      <th>part number</th>\n",
       "      <th></th>\n",
       "      <th></th>\n",
       "    </tr>\n",
       "  </thead>\n",
       "  <tbody>\n",
       "    <tr>\n",
       "      <th>010092872</th>\n",
       "      <td>MECANISME CDE ANTENNE DA1203A</td>\n",
       "      <td>5638.040000</td>\n",
       "    </tr>\n",
       "    <tr>\n",
       "      <th>013964179</th>\n",
       "      <td>POMPE A HUILE PRINCIPALE_x000D_\\n</td>\n",
       "      <td>828.791880</td>\n",
       "    </tr>\n",
       "    <tr>\n",
       "      <th>013964180</th>\n",
       "      <td>POMPE A HUILE SECOURS</td>\n",
       "      <td>829.000000</td>\n",
       "    </tr>\n",
       "    <tr>\n",
       "      <th>140400636</th>\n",
       "      <td>POMPE DE TRANSFERT_x000D_\\n</td>\n",
       "      <td>1300.132024</td>\n",
       "    </tr>\n",
       "    <tr>\n",
       "      <th>143010908</th>\n",
       "      <td>FERRURE ATTACHE AVANT_x000D_\\n</td>\n",
       "      <td>5638.040000</td>\n",
       "    </tr>\n",
       "    <tr>\n",
       "      <th>...</th>\n",
       "      <td>...</td>\n",
       "      <td>...</td>\n",
       "    </tr>\n",
       "    <tr>\n",
       "      <th>145754555</th>\n",
       "      <td>BLOC HYD PA_x000D_\\n</td>\n",
       "      <td>285.848628</td>\n",
       "    </tr>\n",
       "    <tr>\n",
       "      <th>145828816</th>\n",
       "      <td>CALCULATEUR AMC_x000D_\\n</td>\n",
       "      <td>411.576920</td>\n",
       "    </tr>\n",
       "    <tr>\n",
       "      <th>195635296</th>\n",
       "      <td>POSTE CDE EDU COPILOTE</td>\n",
       "      <td>619.056792</td>\n",
       "    </tr>\n",
       "    <tr>\n",
       "      <th>195635297</th>\n",
       "      <td>POSTE CDE EDU PILOTE</td>\n",
       "      <td>619.056792</td>\n",
       "    </tr>\n",
       "    <tr>\n",
       "      <th>999839550</th>\n",
       "      <td>EXTINCTEUR CABINE (SOUTE)_x000D_\\n</td>\n",
       "      <td>5666.230200</td>\n",
       "    </tr>\n",
       "  </tbody>\n",
       "</table>\n",
       "<p>136 rows × 2 columns</p>\n",
       "</div>"
      ],
      "text/plain": [
       "                                    Designation       MTBUR \n",
       "part number                                                 \n",
       "010092872         MECANISME CDE ANTENNE DA1203A  5638.040000\n",
       "013964179     POMPE A HUILE PRINCIPALE_x000D_\\n   828.791880\n",
       "013964180                 POMPE A HUILE SECOURS   829.000000\n",
       "140400636           POMPE DE TRANSFERT_x000D_\\n  1300.132024\n",
       "143010908        FERRURE ATTACHE AVANT_x000D_\\n  5638.040000\n",
       "...                                         ...          ...\n",
       "145754555                  BLOC HYD PA_x000D_\\n   285.848628\n",
       "145828816              CALCULATEUR AMC_x000D_\\n   411.576920\n",
       "195635296                POSTE CDE EDU COPILOTE   619.056792\n",
       "195635297                  POSTE CDE EDU PILOTE   619.056792\n",
       "999839550    EXTINCTEUR CABINE (SOUTE)_x000D_\\n  5666.230200\n",
       "\n",
       "[136 rows x 2 columns]"
      ]
     },
     "execution_count": 4,
     "metadata": {},
     "output_type": "execute_result"
    }
   ],
   "source": [
    "df_mtbur = df_mtb.drop(columns=['Index DF', 'REF FAB SIMAT', 'MTBF'])\n",
    "df_mtbur = df_mtbur.groupby(['part number']).min()\n",
    "#df_mtbur.loc['143025495'][0]\n",
    "#df_mtbur.tail()\n",
    "#df_mtbf = df_mtb.drop(columns=['Index DF', 'REF FAB SIMAT', 'MTBUR']) # TODO\n",
    "\n",
    "df_mtbur"
   ]
  },
  {
   "cell_type": "markdown",
   "metadata": {},
   "source": [
    "### Load Helicop Data"
   ]
  },
  {
   "cell_type": "code",
   "execution_count": 5,
   "metadata": {},
   "outputs": [
    {
     "data": {
      "text/html": [
       "<div>\n",
       "<style scoped>\n",
       "    .dataframe tbody tr th:only-of-type {\n",
       "        vertical-align: middle;\n",
       "    }\n",
       "\n",
       "    .dataframe tbody tr th {\n",
       "        vertical-align: top;\n",
       "    }\n",
       "\n",
       "    .dataframe thead th {\n",
       "        text-align: right;\n",
       "    }\n",
       "</style>\n",
       "<table border=\"1\" class=\"dataframe\">\n",
       "  <thead>\n",
       "    <tr style=\"text-align: right;\">\n",
       "      <th></th>\n",
       "      <th>part number</th>\n",
       "      <th>use</th>\n",
       "    </tr>\n",
       "  </thead>\n",
       "  <tbody>\n",
       "    <tr>\n",
       "      <th>0</th>\n",
       "      <td>010092872</td>\n",
       "      <td>503.2</td>\n",
       "    </tr>\n",
       "    <tr>\n",
       "      <th>1</th>\n",
       "      <td>013964179</td>\n",
       "      <td>1025.4</td>\n",
       "    </tr>\n",
       "    <tr>\n",
       "      <th>2</th>\n",
       "      <td>013964180</td>\n",
       "      <td>1025.4</td>\n",
       "    </tr>\n",
       "    <tr>\n",
       "      <th>3</th>\n",
       "      <td>140400636</td>\n",
       "      <td>580.5</td>\n",
       "    </tr>\n",
       "    <tr>\n",
       "      <th>4</th>\n",
       "      <td>143010908</td>\n",
       "      <td>503.2</td>\n",
       "    </tr>\n",
       "    <tr>\n",
       "      <th>...</th>\n",
       "      <td>...</td>\n",
       "      <td>...</td>\n",
       "    </tr>\n",
       "    <tr>\n",
       "      <th>188</th>\n",
       "      <td>195635296</td>\n",
       "      <td>1025.4</td>\n",
       "    </tr>\n",
       "    <tr>\n",
       "      <th>189</th>\n",
       "      <td>195635297</td>\n",
       "      <td>1025.4</td>\n",
       "    </tr>\n",
       "    <tr>\n",
       "      <th>190</th>\n",
       "      <td>999839550</td>\n",
       "      <td>882.8</td>\n",
       "    </tr>\n",
       "    <tr>\n",
       "      <th>191</th>\n",
       "      <td>999839550</td>\n",
       "      <td>503.2</td>\n",
       "    </tr>\n",
       "    <tr>\n",
       "      <th>192</th>\n",
       "      <td>HM/COUGAR/AS532UL</td>\n",
       "      <td>1025.4</td>\n",
       "    </tr>\n",
       "  </tbody>\n",
       "</table>\n",
       "<p>193 rows × 2 columns</p>\n",
       "</div>"
      ],
      "text/plain": [
       "           part number     use\n",
       "0            010092872   503.2\n",
       "1            013964179  1025.4\n",
       "2            013964180  1025.4\n",
       "3            140400636   580.5\n",
       "4            143010908   503.2\n",
       "..                 ...     ...\n",
       "188          195635296  1025.4\n",
       "189          195635297  1025.4\n",
       "190          999839550   882.8\n",
       "191          999839550   503.2\n",
       "192  HM/COUGAR/AS532UL  1025.4\n",
       "\n",
       "[193 rows x 2 columns]"
      ]
     },
     "execution_count": 5,
     "metadata": {},
     "output_type": "execute_result"
    }
   ],
   "source": [
    "# only store time and part number and value (hours of use)\n",
    "helico1 = pd.read_excel('Data/end_product_EPR0000031_at_20210107.xlsx', sheet_name='life records')[['part number', 'value']]\n",
    "helico1 = helico1.rename(columns={'value':'use'})\n",
    "helico1"
   ]
  },
  {
   "cell_type": "markdown",
   "metadata": {},
   "source": [
    "### Check pieces not found in helico"
   ]
  },
  {
   "cell_type": "code",
   "execution_count": 6,
   "metadata": {},
   "outputs": [
    {
     "name": "stdout",
     "output_type": "stream",
     "text": [
      "HM/COUGAR/AS532UL not found\n",
      "pieces not found: 1\n"
     ]
    }
   ],
   "source": [
    "# now we cross mtbur\n",
    "#result = pd.merge(df_mtbur, helico1, right_on='part number', left_index=True)\n",
    "notfound=0\n",
    "\n",
    "for index, row in helico1.iterrows():\n",
    "    if row['part number'] not in df_mtbur.index:\n",
    "        print(row['part number'], 'not found')\n",
    "        notfound=notfound+1\n",
    "    #print(row['part number'], row['use'], 'h', 'mtbur:', df_mtbur.loc[row['part number']][1])\n",
    "if notfound:\n",
    "  print('pieces not found:', notfound)\n",
    "    "
   ]
  },
  {
   "cell_type": "markdown",
   "metadata": {},
   "source": [
    "### Make dataframe with all info for each helico piece"
   ]
  },
  {
   "cell_type": "code",
   "execution_count": 7,
   "metadata": {},
   "outputs": [
    {
     "name": "stdout",
     "output_type": "stream",
     "text": [
      "WARNING: HM/COUGAR/AS532UL not found\n"
     ]
    }
   ],
   "source": [
    "dftemp = pd.DataFrame({'remaining_time':[], 'mtbur':[], 'piece':[]})\n",
    "\n",
    "for index, row in helico1.iterrows():\n",
    "    if row['part number'] in df_mtbur.index:\n",
    "        #print('m:',df_mtbur.loc[row['part number']])\n",
    "        mtbur = df_mtbur.loc[row['part number']][1]\n",
    "        piece = df_mtbur.loc[row['part number']][0].strip()\n",
    "\n",
    "        #print(type(mtbur), mtbur)\n",
    "        #df2 = pd.DataFrame({'resting_time':row['use'], 'mtbur':mtbur})\n",
    "        #dftemp.append(df2)\n",
    "        dftemp = dftemp.append({'resting_time':mtbur-row['use'], 'mtbur':mtbur, 'piece':piece}, ignore_index=True)\n",
    "    else:\n",
    "        print('WARNING:', row['part number'], 'not found')\n",
    "        dftemp = dftemp.append({'resting_time':np.nan,'mtbur':np.nan}, ignore_index=True)\n",
    "        \n",
    "helico_state = pd.concat([helico1, dftemp], axis=1)\n",
    "neg = helico_state['resting_time'].lt(0)\n",
    "#helico_state[neg]"
   ]
  },
  {
   "cell_type": "code",
   "execution_count": 8,
   "metadata": {},
   "outputs": [
    {
     "data": {
      "text/html": [
       "<div>\n",
       "<style scoped>\n",
       "    .dataframe tbody tr th:only-of-type {\n",
       "        vertical-align: middle;\n",
       "    }\n",
       "\n",
       "    .dataframe tbody tr th {\n",
       "        vertical-align: top;\n",
       "    }\n",
       "\n",
       "    .dataframe thead th {\n",
       "        text-align: right;\n",
       "    }\n",
       "</style>\n",
       "<table border=\"1\" class=\"dataframe\">\n",
       "  <thead>\n",
       "    <tr style=\"text-align: right;\">\n",
       "      <th></th>\n",
       "      <th>part number</th>\n",
       "      <th>use</th>\n",
       "      <th>resting_time</th>\n",
       "      <th>mtbur</th>\n",
       "      <th>piece</th>\n",
       "    </tr>\n",
       "  </thead>\n",
       "  <tbody>\n",
       "    <tr>\n",
       "      <th>0</th>\n",
       "      <td>010092872</td>\n",
       "      <td>503.2</td>\n",
       "      <td>5134.840000</td>\n",
       "      <td>5638.040000</td>\n",
       "      <td>MECANISME CDE ANTENNE DA1203A</td>\n",
       "    </tr>\n",
       "    <tr>\n",
       "      <th>1</th>\n",
       "      <td>013964179</td>\n",
       "      <td>1025.4</td>\n",
       "      <td>-196.608120</td>\n",
       "      <td>828.791880</td>\n",
       "      <td>POMPE A HUILE PRINCIPALE_x000D_</td>\n",
       "    </tr>\n",
       "    <tr>\n",
       "      <th>2</th>\n",
       "      <td>013964180</td>\n",
       "      <td>1025.4</td>\n",
       "      <td>-196.400000</td>\n",
       "      <td>829.000000</td>\n",
       "      <td>POMPE A HUILE SECOURS</td>\n",
       "    </tr>\n",
       "    <tr>\n",
       "      <th>3</th>\n",
       "      <td>140400636</td>\n",
       "      <td>580.5</td>\n",
       "      <td>719.632024</td>\n",
       "      <td>1300.132024</td>\n",
       "      <td>POMPE DE TRANSFERT_x000D_</td>\n",
       "    </tr>\n",
       "    <tr>\n",
       "      <th>4</th>\n",
       "      <td>143010908</td>\n",
       "      <td>503.2</td>\n",
       "      <td>5134.840000</td>\n",
       "      <td>5638.040000</td>\n",
       "      <td>FERRURE ATTACHE AVANT_x000D_</td>\n",
       "    </tr>\n",
       "    <tr>\n",
       "      <th>...</th>\n",
       "      <td>...</td>\n",
       "      <td>...</td>\n",
       "      <td>...</td>\n",
       "      <td>...</td>\n",
       "      <td>...</td>\n",
       "    </tr>\n",
       "    <tr>\n",
       "      <th>188</th>\n",
       "      <td>195635296</td>\n",
       "      <td>1025.4</td>\n",
       "      <td>-406.343208</td>\n",
       "      <td>619.056792</td>\n",
       "      <td>POSTE CDE EDU COPILOTE</td>\n",
       "    </tr>\n",
       "    <tr>\n",
       "      <th>189</th>\n",
       "      <td>195635297</td>\n",
       "      <td>1025.4</td>\n",
       "      <td>-406.343208</td>\n",
       "      <td>619.056792</td>\n",
       "      <td>POSTE CDE EDU PILOTE</td>\n",
       "    </tr>\n",
       "    <tr>\n",
       "      <th>190</th>\n",
       "      <td>999839550</td>\n",
       "      <td>882.8</td>\n",
       "      <td>4783.430200</td>\n",
       "      <td>5666.230200</td>\n",
       "      <td>EXTINCTEUR CABINE (SOUTE)_x000D_</td>\n",
       "    </tr>\n",
       "    <tr>\n",
       "      <th>191</th>\n",
       "      <td>999839550</td>\n",
       "      <td>503.2</td>\n",
       "      <td>5163.030200</td>\n",
       "      <td>5666.230200</td>\n",
       "      <td>EXTINCTEUR CABINE (SOUTE)_x000D_</td>\n",
       "    </tr>\n",
       "    <tr>\n",
       "      <th>192</th>\n",
       "      <td>HM/COUGAR/AS532UL</td>\n",
       "      <td>1025.4</td>\n",
       "      <td>NaN</td>\n",
       "      <td>NaN</td>\n",
       "      <td>NaN</td>\n",
       "    </tr>\n",
       "  </tbody>\n",
       "</table>\n",
       "<p>193 rows × 5 columns</p>\n",
       "</div>"
      ],
      "text/plain": [
       "           part number     use  resting_time        mtbur  \\\n",
       "0            010092872   503.2   5134.840000  5638.040000   \n",
       "1            013964179  1025.4   -196.608120   828.791880   \n",
       "2            013964180  1025.4   -196.400000   829.000000   \n",
       "3            140400636   580.5    719.632024  1300.132024   \n",
       "4            143010908   503.2   5134.840000  5638.040000   \n",
       "..                 ...     ...           ...          ...   \n",
       "188          195635296  1025.4   -406.343208   619.056792   \n",
       "189          195635297  1025.4   -406.343208   619.056792   \n",
       "190          999839550   882.8   4783.430200  5666.230200   \n",
       "191          999839550   503.2   5163.030200  5666.230200   \n",
       "192  HM/COUGAR/AS532UL  1025.4           NaN          NaN   \n",
       "\n",
       "                                piece  \n",
       "0       MECANISME CDE ANTENNE DA1203A  \n",
       "1     POMPE A HUILE PRINCIPALE_x000D_  \n",
       "2               POMPE A HUILE SECOURS  \n",
       "3           POMPE DE TRANSFERT_x000D_  \n",
       "4        FERRURE ATTACHE AVANT_x000D_  \n",
       "..                                ...  \n",
       "188            POSTE CDE EDU COPILOTE  \n",
       "189              POSTE CDE EDU PILOTE  \n",
       "190  EXTINCTEUR CABINE (SOUTE)_x000D_  \n",
       "191  EXTINCTEUR CABINE (SOUTE)_x000D_  \n",
       "192                               NaN  \n",
       "\n",
       "[193 rows x 5 columns]"
      ]
     },
     "execution_count": 8,
     "metadata": {},
     "output_type": "execute_result"
    }
   ],
   "source": [
    "helico_state"
   ]
  },
  {
   "cell_type": "markdown",
   "metadata": {},
   "source": [
    "### Some conclusions"
   ]
  },
  {
   "cell_type": "code",
   "execution_count": 9,
   "metadata": {},
   "outputs": [
    {
     "name": "stdout",
     "output_type": "stream",
     "text": [
      "Overused pieces (use time surpassed MTBUR): 73 pieces (37.82%)\n"
     ]
    }
   ],
   "source": [
    "nn = len(helico_state[neg])\n",
    "print('Overused pieces (use time surpassed MTBUR): {} pieces ({:.2f}%)'.format(nn, nn/len(helico1)*100))"
   ]
  },
  {
   "cell_type": "markdown",
   "metadata": {},
   "source": [
    "### NN"
   ]
  },
  {
   "cell_type": "code",
   "execution_count": 10,
   "metadata": {},
   "outputs": [],
   "source": [
    "import tensorflow as tf\n",
    "import matplotlib.pyplot as plt\n",
    "from sklearn.model_selection import train_test_split\n",
    "\n",
    "from tensorflow.keras.models import Sequential\n",
    "from tensorflow.keras.layers import Dense, Dropout\n",
    "from tensorflow.keras.optimizers import SGD, Adam\n",
    "from tensorflow.keras.utils import normalize\n",
    "from tensorflow.keras.utils import to_categorical"
   ]
  },
  {
   "cell_type": "code",
   "execution_count": 11,
   "metadata": {},
   "outputs": [],
   "source": [
    "def plot_loss_acc(history):\n",
    "    \"\"\"Plot training and (optionally) validation loss and accuracy\"\"\"\n",
    "\n",
    "    loss = history.history['loss']\n",
    "    epochs = range(1, len(loss) + 1)\n",
    "\n",
    "    plt.figure(figsize=(10, 10))\n",
    "\n",
    "    plt.subplot(2, 1, 1)\n",
    "    plt.plot(epochs, loss, '.--', label='Training loss')\n",
    "    final_loss = loss[-1]\n",
    "    title = 'Training loss: {:.4f}'.format(final_loss)\n",
    "    plt.ylabel('Loss')\n",
    "    if 'val_loss' in history.history:\n",
    "        val_loss = history.history['val_loss']\n",
    "        plt.plot(epochs, val_loss, 'o-', label='Validation loss')\n",
    "        final_val_loss = val_loss[-1]\n",
    "        title += ', Validation loss: {:.4f}'.format(final_val_loss)\n",
    "    plt.title(title)\n",
    "    plt.legend()\n",
    "\n",
    "    acc = history.history['accuracy']\n",
    "\n",
    "    plt.subplot(2, 1, 2)\n",
    "    plt.plot(epochs, acc, '.--', label='Training acc')\n",
    "    final_acc = acc[-1]\n",
    "    title = 'Training accuracy: {:.2f}%'.format(final_acc * 100)\n",
    "    plt.xlabel('Epochs')\n",
    "    plt.ylabel('Accuracy')\n",
    "    if 'val_accuracy' in history.history:\n",
    "        val_acc = history.history['val_accuracy']\n",
    "        plt.plot(epochs, val_acc, 'o-', label='Validation acc')\n",
    "        final_val_acc = val_acc[-1]\n",
    "        title += ', Validation accuracy: {:.2f}%'.format(final_val_acc * 100)\n",
    "    plt.title(title)\n",
    "    plt.legend()"
   ]
  },
  {
   "cell_type": "code",
   "execution_count": 12,
   "metadata": {},
   "outputs": [
    {
     "name": "stdout",
     "output_type": "stream",
     "text": [
      "MECANISME CDE ANTENNE DA1203A\n",
      "5638.04\n"
     ]
    }
   ],
   "source": [
    "piece_name = df_mtbur.iloc[0][0]\n",
    "mtbur_piece = df_mtbur.iloc[0][1]\n",
    "\n",
    "print(piece_name)\n",
    "print(mtbur_piece)"
   ]
  },
  {
   "cell_type": "code",
   "execution_count": 13,
   "metadata": {},
   "outputs": [],
   "source": [
    "#pieces = mtbur_piece + (0.1 * mtbur_piece) * np.random.randn(750, )\n",
    "#pieces = np.random.randint(0, mtbur_piece + mtbur_piece * 0.05, 1000)"
   ]
  },
  {
   "cell_type": "code",
   "execution_count": 14,
   "metadata": {},
   "outputs": [],
   "source": [
    "def generate_data(mtbf, N):\n",
    "    l = 1/mtbf\n",
    "\n",
    "    times = np.random.sample(N) * (mtbf*3)\n",
    "    probs = np.exp(-l * times) # proba de survie\n",
    "    y = np.random.rand(len(probs)) < probs\n",
    "    # si rand < prob, y = True (la pièce est cassée)\n",
    "    return pd.DataFrame(list(zip(times, probs, y)), columns=['flight_time', 'survival_prob', 'state'])"
   ]
  },
  {
   "cell_type": "code",
   "execution_count": 15,
   "metadata": {},
   "outputs": [],
   "source": [
    "df = generate_data(mtbur_piece, 100000)"
   ]
  },
  {
   "cell_type": "code",
   "execution_count": 16,
   "metadata": {},
   "outputs": [
    {
     "data": {
      "text/html": [
       "<div>\n",
       "<style scoped>\n",
       "    .dataframe tbody tr th:only-of-type {\n",
       "        vertical-align: middle;\n",
       "    }\n",
       "\n",
       "    .dataframe tbody tr th {\n",
       "        vertical-align: top;\n",
       "    }\n",
       "\n",
       "    .dataframe thead th {\n",
       "        text-align: right;\n",
       "    }\n",
       "</style>\n",
       "<table border=\"1\" class=\"dataframe\">\n",
       "  <thead>\n",
       "    <tr style=\"text-align: right;\">\n",
       "      <th></th>\n",
       "      <th>flight_time</th>\n",
       "      <th>survival_prob</th>\n",
       "      <th>state</th>\n",
       "    </tr>\n",
       "  </thead>\n",
       "  <tbody>\n",
       "    <tr>\n",
       "      <th>0</th>\n",
       "      <td>522.723319</td>\n",
       "      <td>0.911454</td>\n",
       "      <td>True</td>\n",
       "    </tr>\n",
       "    <tr>\n",
       "      <th>1</th>\n",
       "      <td>6833.574791</td>\n",
       "      <td>0.297587</td>\n",
       "      <td>False</td>\n",
       "    </tr>\n",
       "    <tr>\n",
       "      <th>2</th>\n",
       "      <td>8444.638153</td>\n",
       "      <td>0.223622</td>\n",
       "      <td>False</td>\n",
       "    </tr>\n",
       "    <tr>\n",
       "      <th>3</th>\n",
       "      <td>6610.093663</td>\n",
       "      <td>0.309620</td>\n",
       "      <td>False</td>\n",
       "    </tr>\n",
       "    <tr>\n",
       "      <th>4</th>\n",
       "      <td>2829.640204</td>\n",
       "      <td>0.605389</td>\n",
       "      <td>True</td>\n",
       "    </tr>\n",
       "    <tr>\n",
       "      <th>...</th>\n",
       "      <td>...</td>\n",
       "      <td>...</td>\n",
       "      <td>...</td>\n",
       "    </tr>\n",
       "    <tr>\n",
       "      <th>99995</th>\n",
       "      <td>4008.541449</td>\n",
       "      <td>0.491162</td>\n",
       "      <td>False</td>\n",
       "    </tr>\n",
       "    <tr>\n",
       "      <th>99996</th>\n",
       "      <td>9609.910691</td>\n",
       "      <td>0.181867</td>\n",
       "      <td>False</td>\n",
       "    </tr>\n",
       "    <tr>\n",
       "      <th>99997</th>\n",
       "      <td>14778.003747</td>\n",
       "      <td>0.072721</td>\n",
       "      <td>False</td>\n",
       "    </tr>\n",
       "    <tr>\n",
       "      <th>99998</th>\n",
       "      <td>6563.393832</td>\n",
       "      <td>0.312195</td>\n",
       "      <td>False</td>\n",
       "    </tr>\n",
       "    <tr>\n",
       "      <th>99999</th>\n",
       "      <td>7697.121435</td>\n",
       "      <td>0.255326</td>\n",
       "      <td>False</td>\n",
       "    </tr>\n",
       "  </tbody>\n",
       "</table>\n",
       "<p>100000 rows × 3 columns</p>\n",
       "</div>"
      ],
      "text/plain": [
       "        flight_time  survival_prob  state\n",
       "0        522.723319       0.911454   True\n",
       "1       6833.574791       0.297587  False\n",
       "2       8444.638153       0.223622  False\n",
       "3       6610.093663       0.309620  False\n",
       "4       2829.640204       0.605389   True\n",
       "...             ...            ...    ...\n",
       "99995   4008.541449       0.491162  False\n",
       "99996   9609.910691       0.181867  False\n",
       "99997  14778.003747       0.072721  False\n",
       "99998   6563.393832       0.312195  False\n",
       "99999   7697.121435       0.255326  False\n",
       "\n",
       "[100000 rows x 3 columns]"
      ]
     },
     "execution_count": 16,
     "metadata": {},
     "output_type": "execute_result"
    }
   ],
   "source": [
    "df"
   ]
  },
  {
   "cell_type": "code",
   "execution_count": 17,
   "metadata": {},
   "outputs": [],
   "source": [
    "x = df.drop(columns=['state']).to_numpy()\n",
    "y = df['state'].to_numpy()"
   ]
  },
  {
   "cell_type": "code",
   "execution_count": 18,
   "metadata": {},
   "outputs": [],
   "source": [
    "x = normalize(x)\n",
    "y = to_categorical(y, num_classes=2)\n",
    "#y = normalize(y)\n",
    "\n",
    "#y = y.reshape(-1)"
   ]
  },
  {
   "cell_type": "code",
   "execution_count": 19,
   "metadata": {},
   "outputs": [],
   "source": [
    "x_train, x_test, y_train, y_test = train_test_split(x, y, test_size=0.2)"
   ]
  },
  {
   "cell_type": "code",
   "execution_count": 20,
   "metadata": {},
   "outputs": [
    {
     "name": "stdout",
     "output_type": "stream",
     "text": [
      "Model: \"sequential\"\n",
      "_________________________________________________________________\n",
      "Layer (type)                 Output Shape              Param #   \n",
      "=================================================================\n",
      "dense (Dense)                (None, 16)                48        \n",
      "_________________________________________________________________\n",
      "dense_1 (Dense)              (None, 16)                272       \n",
      "_________________________________________________________________\n",
      "dense_2 (Dense)              (None, 2)                 34        \n",
      "=================================================================\n",
      "Total params: 354\n",
      "Trainable params: 354\n",
      "Non-trainable params: 0\n",
      "_________________________________________________________________\n"
     ]
    }
   ],
   "source": [
    "model = Sequential()\n",
    "\n",
    "model.add(Dense(16, activation=\"relu\", input_shape=(2, )))\n",
    "model.add(Dense(16, activation=\"relu\"))\n",
    "\n",
    "#model.add(Dense(128, activation='relu'))\n",
    "#model.add(Dense(128, activation='relu'))\n",
    "#model.add(Dense(128, activation='relu'))\n",
    "#model.add(Dense(64, activation='relu'))\n",
    "#model.add(Dense(64, activation='relu'))\n",
    "#model.add(Dense(64, activation='relu'))\n",
    "\n",
    "#model.add(Dropout(0.2))\n",
    "          \n",
    "model.add(Dense(2, activation=\"softmax\"))\n",
    "\n",
    "model.summary()"
   ]
  },
  {
   "cell_type": "code",
   "execution_count": 21,
   "metadata": {},
   "outputs": [
    {
     "name": "stdout",
     "output_type": "stream",
     "text": [
      "Epoch 1/30\n",
      "1000/1000 [==============================] - 4s 4ms/step - loss: 0.6254 - accuracy: 0.6829 - val_loss: 0.6225 - val_accuracy: 0.6849\n",
      "Epoch 2/30\n",
      "1000/1000 [==============================] - 3s 3ms/step - loss: 0.6220 - accuracy: 0.6857 - val_loss: 0.6159 - val_accuracy: 0.6905\n",
      "Epoch 3/30\n",
      "1000/1000 [==============================] - 3s 3ms/step - loss: 0.6133 - accuracy: 0.6950 - val_loss: 0.5894 - val_accuracy: 0.7097\n",
      "Epoch 4/30\n",
      "1000/1000 [==============================] - 3s 3ms/step - loss: 0.5839 - accuracy: 0.7208 - val_loss: 0.5762 - val_accuracy: 0.7356\n",
      "Epoch 5/30\n",
      "1000/1000 [==============================] - 3s 3ms/step - loss: 0.5590 - accuracy: 0.7449 - val_loss: 0.5595 - val_accuracy: 0.7452\n",
      "Epoch 6/30\n",
      "1000/1000 [==============================] - 3s 3ms/step - loss: 0.5641 - accuracy: 0.7423 - val_loss: 0.5801 - val_accuracy: 0.7312\n",
      "Epoch 7/30\n",
      "1000/1000 [==============================] - 3s 3ms/step - loss: 0.5445 - accuracy: 0.7564 - val_loss: 0.5065 - val_accuracy: 0.7738\n",
      "Epoch 8/30\n",
      "1000/1000 [==============================] - 3s 3ms/step - loss: 0.5325 - accuracy: 0.7652 - val_loss: 0.5672 - val_accuracy: 0.7804\n",
      "Epoch 9/30\n",
      "1000/1000 [==============================] - 3s 3ms/step - loss: 0.5271 - accuracy: 0.7690 - val_loss: 0.4908 - val_accuracy: 0.7828\n",
      "Epoch 10/30\n",
      "1000/1000 [==============================] - 3s 3ms/step - loss: 0.5191 - accuracy: 0.7725 - val_loss: 0.5356 - val_accuracy: 0.7639\n",
      "Epoch 11/30\n",
      "1000/1000 [==============================] - 3s 3ms/step - loss: 0.5211 - accuracy: 0.7713 - val_loss: 0.5519 - val_accuracy: 0.7518\n",
      "Epoch 12/30\n",
      "1000/1000 [==============================] - 3s 3ms/step - loss: 0.5267 - accuracy: 0.7685 - val_loss: 0.5055 - val_accuracy: 0.7849\n",
      "Epoch 13/30\n",
      "1000/1000 [==============================] - 3s 3ms/step - loss: 0.5057 - accuracy: 0.7785 - val_loss: 0.4811 - val_accuracy: 0.7874\n",
      "Epoch 14/30\n",
      "1000/1000 [==============================] - 3s 3ms/step - loss: 0.4973 - accuracy: 0.7849 - val_loss: 0.4829 - val_accuracy: 0.7903\n",
      "Epoch 15/30\n",
      "1000/1000 [==============================] - 3s 3ms/step - loss: 0.5109 - accuracy: 0.7760 - val_loss: 0.4995 - val_accuracy: 0.7818\n",
      "Epoch 16/30\n",
      "1000/1000 [==============================] - 3s 3ms/step - loss: 0.5088 - accuracy: 0.7782 - val_loss: 0.4905 - val_accuracy: 0.7888\n",
      "Epoch 17/30\n",
      "1000/1000 [==============================] - 3s 3ms/step - loss: 0.5015 - accuracy: 0.7804 - val_loss: 0.5359 - val_accuracy: 0.7690\n",
      "Epoch 18/30\n",
      "1000/1000 [==============================] - 3s 3ms/step - loss: 0.5099 - accuracy: 0.7771 - val_loss: 0.4956 - val_accuracy: 0.7865\n",
      "Epoch 19/30\n",
      "1000/1000 [==============================] - 3s 3ms/step - loss: 0.5131 - accuracy: 0.7761 - val_loss: 0.5099 - val_accuracy: 0.7730\n",
      "Epoch 20/30\n",
      "1000/1000 [==============================] - 3s 3ms/step - loss: 0.5102 - accuracy: 0.7760 - val_loss: 0.4792 - val_accuracy: 0.7904\n",
      "Epoch 21/30\n",
      "1000/1000 [==============================] - 3s 3ms/step - loss: 0.4993 - accuracy: 0.7800 - val_loss: 0.5286 - val_accuracy: 0.7728\n",
      "Epoch 22/30\n",
      "1000/1000 [==============================] - 3s 3ms/step - loss: 0.5048 - accuracy: 0.7799 - val_loss: 0.5052 - val_accuracy: 0.7822\n",
      "Epoch 23/30\n",
      "1000/1000 [==============================] - 3s 3ms/step - loss: 0.5077 - accuracy: 0.7776 - val_loss: 0.4837 - val_accuracy: 0.7887\n",
      "Epoch 24/30\n",
      "1000/1000 [==============================] - 3s 3ms/step - loss: 0.4963 - accuracy: 0.7812 - val_loss: 0.4744 - val_accuracy: 0.7906\n",
      "Epoch 25/30\n",
      "1000/1000 [==============================] - 3s 3ms/step - loss: 0.4975 - accuracy: 0.7824 - val_loss: 0.4763 - val_accuracy: 0.7906\n",
      "Epoch 26/30\n",
      "1000/1000 [==============================] - 3s 3ms/step - loss: 0.4999 - accuracy: 0.7831 - val_loss: 0.4879 - val_accuracy: 0.7883\n",
      "Epoch 27/30\n",
      "1000/1000 [==============================] - 3s 3ms/step - loss: 0.4998 - accuracy: 0.7811 - val_loss: 0.5134 - val_accuracy: 0.7813\n",
      "Epoch 28/30\n",
      "1000/1000 [==============================] - 3s 3ms/step - loss: 0.5032 - accuracy: 0.7800 - val_loss: 0.4894 - val_accuracy: 0.7886\n",
      "Epoch 29/30\n",
      "1000/1000 [==============================] - 3s 3ms/step - loss: 0.4983 - accuracy: 0.7837 - val_loss: 0.4777 - val_accuracy: 0.7893\n",
      "Epoch 30/30\n",
      "1000/1000 [==============================] - 3s 3ms/step - loss: 0.4959 - accuracy: 0.7862 - val_loss: 0.4737 - val_accuracy: 0.7908\n"
     ]
    }
   ],
   "source": [
    "model.compile(\n",
    "    optimizer=Adam(learning_rate=1e-2), loss=\"binary_crossentropy\", metrics=[\"accuracy\"]\n",
    ")\n",
    "\n",
    "# Launch the training of the network on the data\n",
    "history = model.fit(x_train, y_train, verbose=1, epochs=30, batch_size=64, validation_split=0.2)"
   ]
  },
  {
   "cell_type": "code",
   "execution_count": 22,
   "metadata": {},
   "outputs": [
    {
     "name": "stdout",
     "output_type": "stream",
     "text": [
      "Training loss: 0.47698\n",
      "Training accuracy: 0.78761\n"
     ]
    }
   ],
   "source": [
    "loss, acc = model.evaluate(x_train, y_train, verbose=0)\n",
    "\n",
    "print(f\"Training loss: {loss:.05f}\")\n",
    "print(f\"Training accuracy: {acc:.05f}\")"
   ]
  },
  {
   "cell_type": "code",
   "execution_count": 23,
   "metadata": {},
   "outputs": [
    {
     "data": {
      "image/png": "[encoded data removed]",
      "text/plain": [
       "<Figure size 720x720 with 2 Axes>"
      ]
     },
     "metadata": {
      "needs_background": "light"
     },
     "output_type": "display_data"
    }
   ],
   "source": [
    "plot_loss_acc(history)"
   ]
  },
  {
   "cell_type": "code",
   "execution_count": null,
   "metadata": {},
   "outputs": [],
   "source": []
  }
 ],
 "metadata": {
  "kernelspec": {
   "display_name": "Python 3",
   "language": "python",
   "name": "python3"
  },
  "language_info": {
   "codemirror_mode": {
    "name": "ipython",
    "version": 3
   },
   "file_extension": ".py",
   "mimetype": "text/x-python",
   "name": "python",
   "nbconvert_exporter": "python",
   "pygments_lexer": "ipython3",
   "version": "3.8.6"
  }
 },
 "nbformat": 4,
 "nbformat_minor": 4
}
